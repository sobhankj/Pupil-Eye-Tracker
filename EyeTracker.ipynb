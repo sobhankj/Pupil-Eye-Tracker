{
  "nbformat": 4,
  "nbformat_minor": 0,
  "metadata": {
    "colab": {
      "provenance": [],
      "authorship_tag": "ABX9TyObW7B4TZ1LztXuZTcN/Mhi",
      "include_colab_link": true
    },
    "kernelspec": {
      "name": "python3",
      "display_name": "Python 3"
    },
    "language_info": {
      "name": "python"
    }
  },
  "cells": [
    {
      "cell_type": "markdown",
      "metadata": {
        "id": "view-in-github",
        "colab_type": "text"
      },
      "source": [
        "<a href=\"https://colab.research.google.com/github/sobhankj/Pupil-Eye-Tracker/blob/main/EyeTracker.ipynb\" target=\"_parent\"><img src=\"https://colab.research.google.com/assets/colab-badge.svg\" alt=\"Open In Colab\"/></a>"
      ]
    },
    {
      "cell_type": "code",
      "execution_count": 1,
      "metadata": {
        "id": "2e-o6OUskx9F",
        "colab": {
          "base_uri": "https://localhost:8080/"
        },
        "outputId": "daf59ee9-0bdf-48ae-deca-a12e3abb6d9e"
      },
      "outputs": [
        {
          "output_type": "stream",
          "name": "stdout",
          "text": [
            "Mounted at /content/drive\n",
            "Archive:  /content/drive/MyDrive/sample_recording_v2.zip\n",
            "   creating: sample_recording_v2/\n",
            "  inflating: sample_recording_v2/eye1_timestamps.npy  \n",
            "  inflating: sample_recording_v2/notify_timestamps.npy  \n",
            "  inflating: sample_recording_v2/gaze_timestamps.npy  \n",
            "  inflating: sample_recording_v2/pupil.pldata  \n",
            "  inflating: sample_recording_v2/world.intrinsics  \n",
            "  inflating: sample_recording_v2/eye0_lookup.npy  \n",
            "  inflating: sample_recording_v2/world_timestamps.npy  \n",
            "  inflating: sample_recording_v2/eye0.mp4  \n",
            "  inflating: sample_recording_v2/eye0_timestamps.npy  \n",
            "  inflating: sample_recording_v2/world.mp4  \n",
            "  inflating: sample_recording_v2/square_marker_cache  \n",
            "  inflating: sample_recording_v2/notify.pldata  \n",
            "  inflating: sample_recording_v2/surface_definitions_v01  \n",
            "  inflating: sample_recording_v2/eye1.mp4  \n",
            "  inflating: sample_recording_v2/pupil_timestamps.npy  \n",
            "  inflating: sample_recording_v2/surface_definitions  \n",
            "  inflating: sample_recording_v2/eye1_lookup.npy  \n",
            "  inflating: sample_recording_v2/world_lookup.npy  \n",
            "  inflating: sample_recording_v2/info.player.json  \n",
            "  inflating: sample_recording_v2/gaze.pldata  \n",
            "  inflating: sample_recording_v2/user_info.csv  \n",
            "  inflating: sample_recording_v2/info.old_style.csv  \n",
            "   creating: sample_recording_v2/offline_data/\n",
            "  inflating: sample_recording_v2/offline_data/offline_pupil.pldata  \n",
            "  inflating: sample_recording_v2/offline_data/offline_pupil_timestamps.npy  \n",
            "  inflating: sample_recording_v2/offline_data/offline_pupil.meta  \n",
            "  inflating: sample_recording_v2/offline_data/reference_locations.msgpack  \n",
            "  inflating: sample_recording_v2/offline_data/gaze_mappers.msgpack  \n",
            "   creating: sample_recording_v2/offline_data/tokens/\n",
            "  inflating: sample_recording_v2/offline_data/tokens/gaze_positions_producer_GazeFromRecording.token  \n",
            "  inflating: sample_recording_v2/offline_data/tokens/pupil_positions_consumer_Pupil_From_Recording.token  \n",
            "  inflating: sample_recording_v2/offline_data/tokens/pupil_positions_consumer_System_Timelines.token  \n",
            "  inflating: sample_recording_v2/offline_data/tokens/pupil_positions_producer_Pupil_From_Recording.token  \n",
            "  inflating: sample_recording_v2/offline_data/tokens/gaze_positions_consumer_Surface_Tracker_Offline.token  \n",
            "  inflating: sample_recording_v2/offline_data/tokens/gaze_positions_consumer_Vis_Polyline.token  \n",
            "  inflating: sample_recording_v2/offline_data/tokens/pupil_positions_producer_Offline_Pupil_Detection.token  \n",
            "  inflating: sample_recording_v2/offline_data/tokens/pupil_positions_consumer_Offline_Pupil_Detection.token  \n",
            "  inflating: sample_recording_v2/offline_data/tokens/gaze_positions_producer_GazeFromOfflineCalibration.token  \n",
            "  inflating: sample_recording_v2/offline_data/tokens/pupil_positions_consumer_GazeFromOfflineCalibration.token  \n",
            "  inflating: sample_recording_v2/offline_data/tokens/gaze_positions_consumer_Offline_Fixation_Detector.token  \n",
            "   creating: sample_recording_v2/offline_data/gaze-mappings/\n",
            "  inflating: sample_recording_v2/offline_data/gaze-mappings/Default_Gaze_Mapper-539df77d-d9db-410b-93f4-a4f369a634a5.pldata  \n",
            "  inflating: sample_recording_v2/offline_data/gaze-mappings/Default_Gaze_Mapper-539df77d-d9db-410b-93f4-a4f369a634a5_timestamps.npy  \n",
            "   creating: sample_recording_v2/exports/\n",
            "   creating: sample_recording_v2/exports/000/\n",
            "  inflating: sample_recording_v2/exports/000/export_info.csv  \n",
            "  inflating: sample_recording_v2/exports/000/pupil_positions.csv  \n",
            "  inflating: sample_recording_v2/exports/000/gaze_positions.csv  \n",
            "  inflating: sample_recording_v2/exports/000/pupil_gaze_positions_info.txt  \n",
            "  inflating: sample_recording_v2/exports/000/fixations.csv  \n",
            "  inflating: sample_recording_v2/exports/000/fixation_report.csv  \n",
            "  inflating: sample_recording_v2/exports/000/world_timestamps.npy  \n",
            "  inflating: sample_recording_v2/exports/000/world_timestamps.csv  \n",
            "   creating: sample_recording_v2/exports/000/surfaces/\n",
            "  inflating: sample_recording_v2/exports/000/surfaces/surface_visibility.csv  \n",
            "  inflating: sample_recording_v2/exports/000/surfaces/surface_gaze_distribution.csv  \n",
            "  inflating: sample_recording_v2/exports/000/surfaces/surface_events.csv  \n",
            "  inflating: sample_recording_v2/exports/000/surfaces/surf_positions_Ship.csv  \n",
            "  inflating: sample_recording_v2/exports/000/surfaces/gaze_positions_on_surface_Ship.csv  \n",
            "  inflating: sample_recording_v2/exports/000/surfaces/fixations_on_surface_Ship.csv  \n",
            "  inflating: sample_recording_v2/exports/000/surfaces/heatmap_Ship.png  \n",
            "  inflating: sample_recording_v2/exports/000/surfaces/surf_positions_Cover.csv  \n",
            "  inflating: sample_recording_v2/exports/000/surfaces/gaze_positions_on_surface_Cover.csv  \n",
            "  inflating: sample_recording_v2/exports/000/surfaces/fixations_on_surface_Cover.csv  \n",
            "  inflating: sample_recording_v2/exports/000/surfaces/heatmap_Cover.png  \n",
            "  inflating: sample_recording_v2/exports/000/surfaces/surf_positions_Spread Images.csv  \n",
            "  inflating: sample_recording_v2/exports/000/surfaces/gaze_positions_on_surface_Spread Images.csv  \n",
            "  inflating: sample_recording_v2/exports/000/surfaces/fixations_on_surface_Spread Images.csv  \n",
            "  inflating: sample_recording_v2/exports/000/surfaces/heatmap_Spread Images.png  \n",
            "  inflating: sample_recording_v2/exports/000/surfaces/surf_positions_Spread Text.csv  \n",
            "  inflating: sample_recording_v2/exports/000/surfaces/gaze_positions_on_surface_Spread Text.csv  \n",
            "  inflating: sample_recording_v2/exports/000/surfaces/fixations_on_surface_Spread Text.csv  \n",
            "  inflating: sample_recording_v2/exports/000/surfaces/heatmap_Spread Text.png  \n",
            "   creating: sample_recording_v2/calibrations/\n",
            "  inflating: sample_recording_v2/calibrations/Default_Calibration-5139f250-3d5e-43e7-832c-5e9feb9fe2d6.plcal  \n"
          ]
        }
      ],
      "source": [
        "from google.colab import drive\n",
        "drive.mount('/content/drive')\n",
        "!unzip /content/drive/MyDrive/sample_recording_v2.zip"
      ]
    },
    {
      "cell_type": "code",
      "source": [
        "import pandas as pd\n",
        "df = pd.read_csv('/content/drive/MyDrive/pupil/data/10_merge_fixation_and_blink_ids_into_gaze_dataframe/fixations.csv')\n",
        "print(df.head())\n"
      ],
      "metadata": {
        "colab": {
          "base_uri": "https://localhost:8080/"
        },
        "id": "i2UHk8urLgpg",
        "outputId": "4082689e-c732-48f5-8e04-f70c080cf2da"
      },
      "execution_count": 12,
      "outputs": [
        {
          "output_type": "stream",
          "name": "stdout",
          "text": [
            "   id  start_timestamp  duration  start_frame_index  end_frame_index  \\\n",
            "0  65    329367.872861  202.7645                417              423   \n",
            "1  66    329368.078129  172.7250                423              428   \n",
            "2  67    329368.308429  172.7250                430              435   \n",
            "3  68    329368.483657   90.1175                435              438   \n",
            "4  69    329368.846630   92.6205                446              449   \n",
            "\n",
            "   norm_pos_x  norm_pos_y  dispersion  confidence   method  gaze_point_3d_x  \\\n",
            "0    0.500608    0.489283    1.325062    0.996743  3d gaze        -3.081022   \n",
            "1    0.498894    0.465011    0.636905    0.994525  3d gaze        -3.427171   \n",
            "2    0.618678    0.719957    1.452216    0.922910  3d gaze        24.321821   \n",
            "3    0.608286    0.697218    1.489355    0.967624  3d gaze        20.501724   \n",
            "4    0.564288    0.489451    1.393328    0.808369  3d gaze        10.073465   \n",
            "\n",
            "   gaze_point_3d_y  gaze_point_3d_z  \\\n",
            "0        -0.895385       133.389071   \n",
            "1         2.017577       133.114747   \n",
            "2       -32.790830       148.172603   \n",
            "3       -27.799192       139.751196   \n",
            "4        -0.919321       133.702938   \n",
            "\n",
            "                                           base_data  \n",
            "0  329367.8728605 329367.882874 329367.890384 329...  \n",
            "1  329368.0781285 329368.0806315 329368.083134999...  \n",
            "2  329368.3084285 329368.31093200005 329368.31343...  \n",
            "3  329368.483657 329368.4861605 329368.4911670000...  \n",
            "4  329368.84663000004 329368.849133 329368.851636...  \n"
          ]
        }
      ]
    },
    {
      "cell_type": "code",
      "source": [
        "print(df.columns)\n",
        "print(df['duration'].describe())"
      ],
      "metadata": {
        "colab": {
          "base_uri": "https://localhost:8080/"
        },
        "id": "D1GxyulKLp4x",
        "outputId": "debbe235-2f33-4530-e1b2-063164e0d2d3"
      },
      "execution_count": 13,
      "outputs": [
        {
          "output_type": "stream",
          "name": "stdout",
          "text": [
            "Index(['id', 'start_timestamp', 'duration', 'start_frame_index',\n",
            "       'end_frame_index', 'norm_pos_x', 'norm_pos_y', 'dispersion',\n",
            "       'confidence', 'method', 'gaze_point_3d_x', 'gaze_point_3d_y',\n",
            "       'gaze_point_3d_z', 'base_data'],\n",
            "      dtype='object')\n",
            "count     36.000000\n",
            "mean     123.285681\n",
            "std       47.704300\n",
            "min       80.104000\n",
            "25%       82.607875\n",
            "50%       93.872250\n",
            "75%      167.092125\n",
            "max      212.777500\n",
            "Name: duration, dtype: float64\n"
          ]
        }
      ]
    },
    {
      "cell_type": "code",
      "source": [
        "total_duration_ms = df['duration'].sum()\n",
        "total_duration_sec = total_duration_ms / 1000\n",
        "print(f\"Total fixation duration: {total_duration_sec:.2f} seconds\")"
      ],
      "metadata": {
        "colab": {
          "base_uri": "https://localhost:8080/"
        },
        "id": "eNqsIDU2Lt0H",
        "outputId": "cbfbfad3-6d25-433f-926c-9986f5383b25"
      },
      "execution_count": 14,
      "outputs": [
        {
          "output_type": "stream",
          "name": "stdout",
          "text": [
            "Total fixation duration: 4.44 seconds\n"
          ]
        }
      ]
    },
    {
      "cell_type": "code",
      "source": [
        "engagement_index = total_duration_sec\n",
        "print(f\"Engagement Index (in seconds): {engagement_index:.2f}\")"
      ],
      "metadata": {
        "colab": {
          "base_uri": "https://localhost:8080/"
        },
        "id": "c0WxOV7eLxmR",
        "outputId": "2ffa3b5c-f771-42eb-9e36-f056af8f056d"
      },
      "execution_count": 15,
      "outputs": [
        {
          "output_type": "stream",
          "name": "stdout",
          "text": [
            "Engagement Index (in seconds): 4.44\n"
          ]
        }
      ]
    },
    {
      "cell_type": "code",
      "source": [
        "print(f\"Engagement Index: {total_duration_sec:.2f} seconds\")"
      ],
      "metadata": {
        "colab": {
          "base_uri": "https://localhost:8080/"
        },
        "id": "Q4ZB0b6cNAgP",
        "outputId": "5edbf3de-4119-463d-fa16-c7d4edddedf6"
      },
      "execution_count": 9,
      "outputs": [
        {
          "output_type": "stream",
          "name": "stdout",
          "text": [
            "Engagement Index: 4.44 seconds\n"
          ]
        }
      ]
    },
    {
      "cell_type": "code",
      "source": [
        "import matplotlib.pyplot as plt\n",
        "\n",
        "plt.bar(['Student A'], [engagement_index])\n",
        "plt.ylabel('Fixation Time (sec)')\n",
        "plt.title('Engagement Index')\n",
        "plt.show()"
      ],
      "metadata": {
        "colab": {
          "base_uri": "https://localhost:8080/",
          "height": 452
        },
        "id": "xe75H-zANCKE",
        "outputId": "df8145bb-8779-4f48-fac1-ef6635c0c063"
      },
      "execution_count": 11,
      "outputs": [
        {
          "output_type": "display_data",
          "data": {
            "text/plain": [
              "<Figure size 640x480 with 1 Axes>"
            ],
            "image/png": "[encoded data removed]"
          },
          "metadata": {}
        }
      ]
    }
  ]
}