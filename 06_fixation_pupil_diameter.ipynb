{
  "cells": [
    {
      "cell_type": "markdown",
      "metadata": {
        "id": "_DH56xb8Kb3p"
      },
      "source": [
        "# Tutorial 06 - Pupil Diameter By Fixation On Surface\n",
        "In this tutorial we will look at how to calculate the mean pupil diameter for each fixation on a given surface.\n",
        "We will follow these steps:\n",
        "1. Define the necessary file paths\n",
        "1. Load the data using `Pandas`.\n",
        "1. Select required columns\n",
        "1. Group fixations by id\n",
        "1. Extract pupil data for each fixation\n",
        "1. Calculate mean pupil diameter for based on the extracted pupil data\n",
        "\n",
        "To re-execute this notebook, please download the [sample recording](https://drive.google.com/file/d/1vzjZkjoi8kESw8lBnsa_k_8hXPf3fMMC/view?usp=sharing) for Pupil Player, unpack it and place it inside the `recordings` directory.\n",
        "\n",
        "## 1 - Define the necessary file paths\n",
        "Let's start by importing the necessary Python modules and defining the necessary file paths."
      ]
    },
    {
      "cell_type": "code",
      "source": [
        "from google.colab import drive\n",
        "drive.mount('/content/drive')\n",
        "!unzip /content/drive/MyDrive/sample_recording_v2.zip"
      ],
      "metadata": {
        "id": "0eoMnrJ4Kr6J",
        "outputId": "ba9806d3-8695-4b67-cfb1-5306c1b27e00",
        "colab": {
          "base_uri": "https://localhost:8080/"
        }
      },
      "execution_count": 1,
      "outputs": [
        {
          "output_type": "stream",
          "name": "stdout",
          "text": [
            "Mounted at /content/drive\n",
            "Archive:  /content/drive/MyDrive/sample_recording_v2.zip\n",
            "   creating: sample_recording_v2/\n",
            "  inflating: sample_recording_v2/eye1_timestamps.npy  \n",
            "  inflating: sample_recording_v2/notify_timestamps.npy  \n",
            "  inflating: sample_recording_v2/gaze_timestamps.npy  \n",
            "  inflating: sample_recording_v2/pupil.pldata  \n",
            "  inflating: sample_recording_v2/world.intrinsics  \n",
            "  inflating: sample_recording_v2/eye0_lookup.npy  \n",
            "  inflating: sample_recording_v2/world_timestamps.npy  \n",
            "  inflating: sample_recording_v2/eye0.mp4  \n",
            "  inflating: sample_recording_v2/eye0_timestamps.npy  \n",
            "  inflating: sample_recording_v2/world.mp4  \n",
            "  inflating: sample_recording_v2/square_marker_cache  \n",
            "  inflating: sample_recording_v2/notify.pldata  \n",
            "  inflating: sample_recording_v2/surface_definitions_v01  \n",
            "  inflating: sample_recording_v2/eye1.mp4  \n",
            "  inflating: sample_recording_v2/pupil_timestamps.npy  \n",
            "  inflating: sample_recording_v2/surface_definitions  \n",
            "  inflating: sample_recording_v2/eye1_lookup.npy  \n",
            "  inflating: sample_recording_v2/world_lookup.npy  \n",
            "  inflating: sample_recording_v2/info.player.json  \n",
            "  inflating: sample_recording_v2/gaze.pldata  \n",
            "  inflating: sample_recording_v2/user_info.csv  \n",
            "  inflating: sample_recording_v2/info.old_style.csv  \n",
            "   creating: sample_recording_v2/offline_data/\n",
            "  inflating: sample_recording_v2/offline_data/offline_pupil.pldata  \n",
            "  inflating: sample_recording_v2/offline_data/offline_pupil_timestamps.npy  \n",
            "  inflating: sample_recording_v2/offline_data/offline_pupil.meta  \n",
            "  inflating: sample_recording_v2/offline_data/reference_locations.msgpack  \n",
            "  inflating: sample_recording_v2/offline_data/gaze_mappers.msgpack  \n",
            "   creating: sample_recording_v2/offline_data/tokens/\n",
            "  inflating: sample_recording_v2/offline_data/tokens/gaze_positions_producer_GazeFromRecording.token  \n",
            "  inflating: sample_recording_v2/offline_data/tokens/pupil_positions_consumer_Pupil_From_Recording.token  \n",
            "  inflating: sample_recording_v2/offline_data/tokens/pupil_positions_consumer_System_Timelines.token  \n",
            "  inflating: sample_recording_v2/offline_data/tokens/pupil_positions_producer_Pupil_From_Recording.token  \n",
            "  inflating: sample_recording_v2/offline_data/tokens/gaze_positions_consumer_Surface_Tracker_Offline.token  \n",
            "  inflating: sample_recording_v2/offline_data/tokens/gaze_positions_consumer_Vis_Polyline.token  \n",
            "  inflating: sample_recording_v2/offline_data/tokens/pupil_positions_producer_Offline_Pupil_Detection.token  \n",
            "  inflating: sample_recording_v2/offline_data/tokens/pupil_positions_consumer_Offline_Pupil_Detection.token  \n",
            "  inflating: sample_recording_v2/offline_data/tokens/gaze_positions_producer_GazeFromOfflineCalibration.token  \n",
            "  inflating: sample_recording_v2/offline_data/tokens/pupil_positions_consumer_GazeFromOfflineCalibration.token  \n",
            "  inflating: sample_recording_v2/offline_data/tokens/gaze_positions_consumer_Offline_Fixation_Detector.token  \n",
            "   creating: sample_recording_v2/offline_data/gaze-mappings/\n",
            "  inflating: sample_recording_v2/offline_data/gaze-mappings/Default_Gaze_Mapper-539df77d-d9db-410b-93f4-a4f369a634a5.pldata  \n",
            "  inflating: sample_recording_v2/offline_data/gaze-mappings/Default_Gaze_Mapper-539df77d-d9db-410b-93f4-a4f369a634a5_timestamps.npy  \n",
            "   creating: sample_recording_v2/exports/\n",
            "   creating: sample_recording_v2/exports/000/\n",
            "  inflating: sample_recording_v2/exports/000/export_info.csv  \n",
            "  inflating: sample_recording_v2/exports/000/pupil_positions.csv  \n",
            "  inflating: sample_recording_v2/exports/000/gaze_positions.csv  \n",
            "  inflating: sample_recording_v2/exports/000/pupil_gaze_positions_info.txt  \n",
            "  inflating: sample_recording_v2/exports/000/fixations.csv  \n",
            "  inflating: sample_recording_v2/exports/000/fixation_report.csv  \n",
            "  inflating: sample_recording_v2/exports/000/world_timestamps.npy  \n",
            "  inflating: sample_recording_v2/exports/000/world_timestamps.csv  \n",
            "   creating: sample_recording_v2/exports/000/surfaces/\n",
            "  inflating: sample_recording_v2/exports/000/surfaces/surface_visibility.csv  \n",
            "  inflating: sample_recording_v2/exports/000/surfaces/surface_gaze_distribution.csv  \n",
            "  inflating: sample_recording_v2/exports/000/surfaces/surface_events.csv  \n",
            "  inflating: sample_recording_v2/exports/000/surfaces/surf_positions_Ship.csv  \n",
            "  inflating: sample_recording_v2/exports/000/surfaces/gaze_positions_on_surface_Ship.csv  \n",
            "  inflating: sample_recording_v2/exports/000/surfaces/fixations_on_surface_Ship.csv  \n",
            "  inflating: sample_recording_v2/exports/000/surfaces/heatmap_Ship.png  \n",
            "  inflating: sample_recording_v2/exports/000/surfaces/surf_positions_Cover.csv  \n",
            "  inflating: sample_recording_v2/exports/000/surfaces/gaze_positions_on_surface_Cover.csv  \n",
            "  inflating: sample_recording_v2/exports/000/surfaces/fixations_on_surface_Cover.csv  \n",
            "  inflating: sample_recording_v2/exports/000/surfaces/heatmap_Cover.png  \n",
            "  inflating: sample_recording_v2/exports/000/surfaces/surf_positions_Spread Images.csv  \n",
            "  inflating: sample_recording_v2/exports/000/surfaces/gaze_positions_on_surface_Spread Images.csv  \n",
            "  inflating: sample_recording_v2/exports/000/surfaces/fixations_on_surface_Spread Images.csv  \n",
            "  inflating: sample_recording_v2/exports/000/surfaces/heatmap_Spread Images.png  \n",
            "  inflating: sample_recording_v2/exports/000/surfaces/surf_positions_Spread Text.csv  \n",
            "  inflating: sample_recording_v2/exports/000/surfaces/gaze_positions_on_surface_Spread Text.csv  \n",
            "  inflating: sample_recording_v2/exports/000/surfaces/fixations_on_surface_Spread Text.csv  \n",
            "  inflating: sample_recording_v2/exports/000/surfaces/heatmap_Spread Text.png  \n",
            "   creating: sample_recording_v2/calibrations/\n",
            "  inflating: sample_recording_v2/calibrations/Default_Calibration-5139f250-3d5e-43e7-832c-5e9feb9fe2d6.plcal  \n"
          ]
        }
      ]
    },
    {
      "cell_type": "code",
      "execution_count": 2,
      "metadata": {
        "id": "U3O1x0czKb3r"
      },
      "outputs": [],
      "source": [
        "import pathlib\n",
        "\n",
        "import numpy as np\n",
        "import pandas as pd\n",
        "import seaborn as sns\n",
        "sns.set(context=\"notebook\", style=\"whitegrid\", font_scale=1.2)\n",
        "\n",
        "import matplotlib.pyplot as plt\n",
        "import matplotlib.colors as colors\n",
        "%matplotlib inline"
      ]
    },
    {
      "cell_type": "code",
      "execution_count": 3,
      "metadata": {
        "id": "SOgElxDcKb3s",
        "outputId": "100a30f8-b0ee-41a9-c52f-a5c7a588dfb2",
        "colab": {
          "base_uri": "https://localhost:8080/"
        }
      },
      "outputs": [
        {
          "output_type": "stream",
          "name": "stdout",
          "text": [
            "Necessary files:\n",
            "/content/sample_recording_v2/exports/000/pupil_positions.csv\n",
            "/content/sample_recording_v2/exports/000/surfaces/fixations_on_surface_Spread Text.csv\n"
          ]
        }
      ],
      "source": [
        "surface_name = \"Spread Text\"\n",
        "\n",
        "recording = pathlib.Path(\"recordings\") / \"sample_recording_v2\"\n",
        "export_dir = recording / \"exports\" / \"000\"\n",
        "surface_dir = export_dir / \"surfaces\"\n",
        "\n",
        "# pupil_positions_file = export_dir / \"pupil_positions.csv\"\n",
        "pupil_positions_file = \"/content/sample_recording_v2/exports/000/pupil_positions.csv\"\n",
        "# fixations_on_surface_file = surface_dir / f\"fixations_on_surface_{surface_name}.csv\"\n",
        "fixations_on_surface_file = \"/content/sample_recording_v2/exports/000/surfaces/fixations_on_surface_Spread Text.csv\"\n",
        "\n",
        "print(\"Necessary files:\")\n",
        "print(pupil_positions_file)\n",
        "print(fixations_on_surface_file)"
      ]
    },
    {
      "cell_type": "markdown",
      "metadata": {
        "id": "5dcYx4hUKb3t"
      },
      "source": [
        "## 2 - Load the data using `Pandas`\n",
        "In the next steps we use the [Pandas](https://pypi.org/project/pandas/) project to load and filter the data.\n"
      ]
    },
    {
      "cell_type": "code",
      "execution_count": 4,
      "metadata": {
        "id": "lYJXGiRmKb3t"
      },
      "outputs": [],
      "source": [
        "pupil_positions = pd.read_csv(pupil_positions_file)\n",
        "fixations_on_surface = pd.read_csv(fixations_on_surface_file)\n",
        "\n",
        "# we are only interested in 3D pupil data\n",
        "pupil_positions = pupil_positions[pupil_positions.method == \"3d c++\"]"
      ]
    },
    {
      "cell_type": "markdown",
      "metadata": {
        "id": "dTsPC58kKb3t"
      },
      "source": [
        "## 3 - Select required columns\n",
        "We only need a subset of the loaded columns:\n",
        "- `pupil_positions.csv`\n",
        "    - `pupil_timestamp`: Used for temporal correlation with fixations\n",
        "    - `diameter_3d`: Used for aggregation to diameter mean\n",
        "    - `confidence`: Used to filter low confidence data\n",
        "- `fixations_on_surface_<surface name>.csv`:\n",
        "    - `fixation_id`: Used to group fixations by id (see the [v1.15 release notes](https://github.com/pupil-labs/pupil/releases/tag/v1.15) on the reason for duplicated entries)\n",
        "    - `start_timestamp`: Used for temporal correlation with pupil positions\n",
        "    - `duration`: In ms, used for temporal correlation with pupil positions\n",
        "    - `on_surf`: Used to filter fixations that are not positioned on the selected surface"
      ]
    },
    {
      "cell_type": "code",
      "execution_count": 5,
      "metadata": {
        "id": "xAabX3lKKb3u",
        "outputId": "f8a7f810-c349-4b89-dc49-1ddb14fb1a36",
        "colab": {
          "base_uri": "https://localhost:8080/"
        }
      },
      "outputs": [
        {
          "output_type": "stream",
          "name": "stdout",
          "text": [
            "<class 'pandas.core.frame.DataFrame'>\n",
            "RangeIndex: 31971 entries, 0 to 31970\n",
            "Data columns (total 3 columns):\n",
            " #   Column           Non-Null Count  Dtype  \n",
            "---  ------           --------------  -----  \n",
            " 0   pupil_timestamp  31971 non-null  float64\n",
            " 1   diameter_3d      31971 non-null  float64\n",
            " 2   confidence       31971 non-null  float64\n",
            "dtypes: float64(3)\n",
            "memory usage: 749.4 KB\n",
            "\n",
            "<class 'pandas.core.frame.DataFrame'>\n",
            "RangeIndex: 1650 entries, 0 to 1649\n",
            "Data columns (total 4 columns):\n",
            " #   Column           Non-Null Count  Dtype  \n",
            "---  ------           --------------  -----  \n",
            " 0   fixation_id      1650 non-null   int64  \n",
            " 1   start_timestamp  1650 non-null   float64\n",
            " 2   duration         1650 non-null   float64\n",
            " 3   on_surf          1650 non-null   bool   \n",
            "dtypes: bool(1), float64(2), int64(1)\n",
            "memory usage: 40.4 KB\n"
          ]
        }
      ],
      "source": [
        "pupil_positions = pupil_positions[[\"pupil_timestamp\", \"diameter_3d\", \"confidence\"]]\n",
        "fixations_on_surface = fixations_on_surface[[\"fixation_id\", \"start_timestamp\", \"duration\", \"on_surf\"]]\n",
        "\n",
        "pupil_positions.info()\n",
        "print()\n",
        "fixations_on_surface.info()"
      ]
    },
    {
      "cell_type": "markdown",
      "metadata": {
        "id": "pI2o2VimKb3u"
      },
      "source": [
        "## 4 - Data processing\n",
        "\n",
        "1. Group fixations by id\n",
        "1. Extract pupil data for each fixation\n",
        "    1. Check if fixation was on surface\n",
        "    1. Calculate start and end point of each fixation\n",
        "    1. Select all pupil data that lies between start and end point of each fixation\n",
        "    1. Remove low confidence data\n",
        "1. Calculate mean pupil diameter for based on the extracted pupil data"
      ]
    },
    {
      "cell_type": "code",
      "execution_count": 6,
      "metadata": {
        "id": "6hZgkhweKb3u"
      },
      "outputs": [],
      "source": [
        "MIN_CONFIDENCE = 0.8\n",
        "\n",
        "results = []\n",
        "\n",
        "for _, fixations in fixations_on_surface.groupby(\"fixation_id\"):  # group fixations by id\n",
        "    first_fixation = fixations.iloc[0]\n",
        "    if not first_fixation.on_surf:\n",
        "        continue  # skip fixation since it is not on the surface\n",
        "\n",
        "    # calculate start and end point\n",
        "    fixation_id = first_fixation.fixation_id\n",
        "    fixation_start = first_fixation.start_timestamp\n",
        "    fixation_end = fixation_start + first_fixation.duration / 1000  # duration is in ms\n",
        "\n",
        "    # boolean masks to filter pupil positions\n",
        "    mask_after_start = fixation_start <= pupil_positions.pupil_timestamp\n",
        "    mask_before_end = pupil_positions.pupil_timestamp <= fixation_end\n",
        "    mask_high_confidence = pupil_positions.confidence >= MIN_CONFIDENCE\n",
        "\n",
        "    # Extract pupil data for each fixation\n",
        "    pupil_positions_during_fixation = pupil_positions[mask_after_start & mask_before_end & mask_high_confidence]\n",
        "    diameter_3d_during_fixation = pupil_positions_during_fixation.diameter_3d\n",
        "\n",
        "    # Calculate mean pupil diameter for based on the extracted pupil data\n",
        "    results.append([fixation_id, diameter_3d_during_fixation.mean()])\n",
        "\n",
        "# Create new data frame from results\n",
        "mean_diameter_3d_by_fixation = pd.DataFrame(results, columns=[\"fixation_id\", \"mean_pupil_diameter_3d\"])"
      ]
    },
    {
      "cell_type": "markdown",
      "metadata": {
        "id": "4jdTHf3cKb3u"
      },
      "source": [
        "## 5 - Visualize results\n",
        "\n",
        "Below we plot the mean diameter for each fixation."
      ]
    },
    {
      "cell_type": "code",
      "execution_count": 7,
      "metadata": {
        "id": "UUDKzHi_Kb3v",
        "outputId": "abcf2345-84d2-4201-cbc6-f1740fa7795d",
        "colab": {
          "base_uri": "https://localhost:8080/",
          "height": 480
        }
      },
      "outputs": [
        {
          "output_type": "execute_result",
          "data": {
            "text/plain": [
              "Text(0, 0.5, 'mean diameter_3d [mm]')"
            ]
          },
          "metadata": {},
          "execution_count": 7
        },
        {
          "output_type": "display_data",
          "data": {
            "text/plain": [
              "<Figure size 640x480 with 1 Axes>"
            ],
            "image/png": "[encoded data removed]"
          },
          "metadata": {}
        }
      ],
      "source": [
        "plt.scatter(mean_diameter_3d_by_fixation.fixation_id, mean_diameter_3d_by_fixation.mean_pupil_diameter_3d)\n",
        "plt.xlabel(\"fixation_id\")\n",
        "plt.ylabel(\"mean diameter_3d [mm]\")"
      ]
    }
  ],
  "metadata": {
    "kernelspec": {
      "display_name": "Python 3",
      "language": "python",
      "name": "python3"
    },
    "language_info": {
      "codemirror_mode": {
        "name": "ipython",
        "version": 3
      },
      "file_extension": ".py",
      "mimetype": "text/x-python",
      "name": "python",
      "nbconvert_exporter": "python",
      "pygments_lexer": "ipython3",
      "version": "3.7.7"
    },
    "colab": {
      "provenance": []
    }
  },
  "nbformat": 4,
  "nbformat_minor": 0
}